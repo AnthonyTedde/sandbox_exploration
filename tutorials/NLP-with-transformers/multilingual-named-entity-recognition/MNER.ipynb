{
 "cells": [
  {
   "cell_type": "code",
   "execution_count": 1,
   "id": "initial_id",
   "metadata": {
    "collapsed": true,
    "ExecuteTime": {
     "end_time": "2023-12-16T17:55:20.582885800Z",
     "start_time": "2023-12-16T17:55:16.486461Z"
    }
   },
   "outputs": [],
   "source": [
    "from datasets import load_dataset, DatasetDict\n",
    "import pandas as pd\n",
    "\n",
    "from collections import defaultdict"
   ]
  },
  {
   "cell_type": "markdown",
   "source": [
    "# Chargement des données"
   ],
   "metadata": {
    "collapsed": false
   },
   "id": "af926b6394223e16"
  },
  {
   "cell_type": "markdown",
   "source": [
    "Les données proviennent du jeu \"xtreme\" dont sont extraites trois sous-ensembles correspondant aux langues parlées en Belgique, l'anglais en plus."
   ],
   "metadata": {
    "collapsed": false
   },
   "id": "6a98cf1264d6fe07"
  },
  {
   "cell_type": "code",
   "execution_count": 2,
   "outputs": [
    {
     "data": {
      "text/plain": "                               nl     fr     de     en\nnumber of training example  20000  20000  20000  20000",
      "text/html": "<div>\n<style scoped>\n    .dataframe tbody tr th:only-of-type {\n        vertical-align: middle;\n    }\n\n    .dataframe tbody tr th {\n        vertical-align: top;\n    }\n\n    .dataframe thead th {\n        text-align: right;\n    }\n</style>\n<table border=\"1\" class=\"dataframe\">\n  <thead>\n    <tr style=\"text-align: right;\">\n      <th></th>\n      <th>nl</th>\n      <th>fr</th>\n      <th>de</th>\n      <th>en</th>\n    </tr>\n  </thead>\n  <tbody>\n    <tr>\n      <th>number of training example</th>\n      <td>20000</td>\n      <td>20000</td>\n      <td>20000</td>\n      <td>20000</td>\n    </tr>\n  </tbody>\n</table>\n</div>"
     },
     "execution_count": 2,
     "metadata": {},
     "output_type": "execute_result"
    }
   ],
   "source": [
    "langs = [\"nl\", \"fr\", \"de\", \"en\"]\n",
    "panx_be = defaultdict(DatasetDict)\n",
    "\n",
    "for lang in langs:\n",
    "    ds = load_dataset(path=\"xtreme\", name=f\"PAN-X.{lang}\")\n",
    "    panx_be[lang] |= ds\n",
    "\n",
    "pd.DataFrame(\n",
    "    {lang: [panx_be[lang][\"train\"].num_rows] for lang in langs },\n",
    "    index=[\"number of training example\"]\n",
    ")\n"
   ],
   "metadata": {
    "collapsed": false,
    "ExecuteTime": {
     "end_time": "2023-12-16T17:56:01.556681400Z",
     "start_time": "2023-12-16T17:55:51.185034900Z"
    }
   },
   "id": "4273d3999a7aa4c8"
  },
  {
   "cell_type": "code",
   "execution_count": 3,
   "outputs": [
    {
     "name": "stdout",
     "output_type": "stream",
     "text": [
      "tokens: ['Comté', 'de', 'Motley']\n",
      "ner_tags: [5, 6, 6]\n",
      "langs: ['fr', 'fr', 'fr']\n"
     ]
    }
   ],
   "source": [
    "element = panx_be[\"fr\"][\"train\"][5]\n",
    "for key, value in element.items():\n",
    "    print(f\"{key}: {value}\")"
   ],
   "metadata": {
    "collapsed": false,
    "ExecuteTime": {
     "end_time": "2023-12-16T17:56:05.564880500Z",
     "start_time": "2023-12-16T17:56:05.557299500Z"
    }
   },
   "id": "4592a82c52ce1523"
  },
  {
   "cell_type": "code",
   "execution_count": 4,
   "outputs": [
    {
     "data": {
      "text/plain": "Map:   0%|          | 0/20000 [00:00<?, ? examples/s]",
      "application/vnd.jupyter.widget-view+json": {
       "version_major": 2,
       "version_minor": 0,
       "model_id": "1c93ffbb76674d92b0c309c01e95384f"
      }
     },
     "metadata": {},
     "output_type": "display_data"
    },
    {
     "data": {
      "text/plain": "Map:   0%|          | 0/10000 [00:00<?, ? examples/s]",
      "application/vnd.jupyter.widget-view+json": {
       "version_major": 2,
       "version_minor": 0,
       "model_id": "e4f9c17bf8754f56bc51b6efc6ebb477"
      }
     },
     "metadata": {},
     "output_type": "display_data"
    },
    {
     "data": {
      "text/plain": "Map:   0%|          | 0/10000 [00:00<?, ? examples/s]",
      "application/vnd.jupyter.widget-view+json": {
       "version_major": 2,
       "version_minor": 0,
       "model_id": "20cc1dc0d9ae479b89022ea1851a9d98"
      }
     },
     "metadata": {},
     "output_type": "display_data"
    },
    {
     "data": {
      "text/plain": "Map:   0%|          | 0/20000 [00:00<?, ? examples/s]",
      "application/vnd.jupyter.widget-view+json": {
       "version_major": 2,
       "version_minor": 0,
       "model_id": "62a689d0dfaf4c61851959564902fa5f"
      }
     },
     "metadata": {},
     "output_type": "display_data"
    },
    {
     "data": {
      "text/plain": "Map:   0%|          | 0/10000 [00:00<?, ? examples/s]",
      "application/vnd.jupyter.widget-view+json": {
       "version_major": 2,
       "version_minor": 0,
       "model_id": "e4bc31678ed448138fae3fe8f31634ec"
      }
     },
     "metadata": {},
     "output_type": "display_data"
    },
    {
     "data": {
      "text/plain": "Map:   0%|          | 0/10000 [00:00<?, ? examples/s]",
      "application/vnd.jupyter.widget-view+json": {
       "version_major": 2,
       "version_minor": 0,
       "model_id": "9a1d51d29f2a43a99f3459b0d4087317"
      }
     },
     "metadata": {},
     "output_type": "display_data"
    },
    {
     "data": {
      "text/plain": "Map:   0%|          | 0/20000 [00:00<?, ? examples/s]",
      "application/vnd.jupyter.widget-view+json": {
       "version_major": 2,
       "version_minor": 0,
       "model_id": "9413f1cb3e4d4a1185fdcb1a88b7b613"
      }
     },
     "metadata": {},
     "output_type": "display_data"
    },
    {
     "data": {
      "text/plain": "Map:   0%|          | 0/10000 [00:00<?, ? examples/s]",
      "application/vnd.jupyter.widget-view+json": {
       "version_major": 2,
       "version_minor": 0,
       "model_id": "76906b2a3fdb45adaf670736b3f6ba18"
      }
     },
     "metadata": {},
     "output_type": "display_data"
    },
    {
     "data": {
      "text/plain": "Map:   0%|          | 0/10000 [00:00<?, ? examples/s]",
      "application/vnd.jupyter.widget-view+json": {
       "version_major": 2,
       "version_minor": 0,
       "model_id": "f4af65d49e494eeeb8484b249f58a93b"
      }
     },
     "metadata": {},
     "output_type": "display_data"
    },
    {
     "data": {
      "text/plain": "Map:   0%|          | 0/20000 [00:00<?, ? examples/s]",
      "application/vnd.jupyter.widget-view+json": {
       "version_major": 2,
       "version_minor": 0,
       "model_id": "ac9d4754c43d4f38bd4a87cd29030093"
      }
     },
     "metadata": {},
     "output_type": "display_data"
    },
    {
     "data": {
      "text/plain": "Map:   0%|          | 0/10000 [00:00<?, ? examples/s]",
      "application/vnd.jupyter.widget-view+json": {
       "version_major": 2,
       "version_minor": 0,
       "model_id": "5aba88f307fe4a9d8d14c7500c6f1136"
      }
     },
     "metadata": {},
     "output_type": "display_data"
    },
    {
     "data": {
      "text/plain": "Map:   0%|          | 0/10000 [00:00<?, ? examples/s]",
      "application/vnd.jupyter.widget-view+json": {
       "version_major": 2,
       "version_minor": 0,
       "model_id": "9d743be0426b49898a036253be7833eb"
      }
     },
     "metadata": {},
     "output_type": "display_data"
    }
   ],
   "source": [
    "tags = panx_be[\"en\"][\"train\"].features[\"ner_tags\"].feature\n",
    "def create_tag_names(batch) -> dict[str, list]:\n",
    "    return {\n",
    "        \"ner_tags_str\": [tags.int2str(n) for n in batch[\"ner_tags\"]]\n",
    "    }\n",
    "\n",
    "for lang in langs:\n",
    "    panx_be[lang] = panx_be[lang].map(create_tag_names, batched=True)"
   ],
   "metadata": {
    "collapsed": false,
    "ExecuteTime": {
     "end_time": "2023-12-16T17:56:14.656616500Z",
     "start_time": "2023-12-16T17:56:09.062613200Z"
    }
   },
   "id": "bc110c22009d5356"
  },
  {
   "cell_type": "code",
   "execution_count": 5,
   "outputs": [
    {
     "name": "stdout",
     "output_type": "stream",
     "text": [
      "tokens: ['R.H.', 'Saunders', '(', 'St.', 'Lawrence', 'River', ')', '(', '968', 'MW', ')']\n",
      "ner_tags: [3, 4, 0, 3, 4, 4, 0, 0, 0, 0, 0]\n",
      "langs: ['en', 'en', 'en', 'en', 'en', 'en', 'en', 'en', 'en', 'en', 'en']\n",
      "ner_tags_str: ['B-ORG', 'I-ORG', 'O', 'B-ORG', 'I-ORG', 'I-ORG', 'O', 'O', 'O', 'O', 'O']\n"
     ]
    }
   ],
   "source": [
    "element = panx_be[\"en\"][\"train\"][0]\n",
    "for k, v in element.items():\n",
    "    print(f\"{k}: {v}\")"
   ],
   "metadata": {
    "collapsed": false,
    "ExecuteTime": {
     "end_time": "2023-12-16T18:00:37.667796800Z",
     "start_time": "2023-12-16T18:00:37.654586Z"
    }
   },
   "id": "a8eb328251df93a5"
  },
  {
   "cell_type": "code",
   "execution_count": null,
   "outputs": [],
   "source": [
    "{e: [l.count(e)] for e in unique}"
   ],
   "metadata": {
    "collapsed": false
   },
   "id": "b022e5066915a0d2"
  },
  {
   "cell_type": "code",
   "execution_count": 36,
   "outputs": [
    {
     "data": {
      "text/plain": "                 B-ORG  B-LOC  B-PER\nnl - train        7778   9964   9308\nnl - validation   3943   4835   4754\nnl - test         3908   5133   4684\nfr - train        7764   9718   8965\nfr - validation   3910   4840   4406\nfr - test         3885   4985   4499\nde - train        8575   9778   9290\nde - validation   4281   4968   4569\nde - test         4157   4961   4750\nen - train        9422   9345   9164\nen - validation   4677   4834   4635\nen - test         4745   4657   4556",
      "text/html": "<div>\n<style scoped>\n    .dataframe tbody tr th:only-of-type {\n        vertical-align: middle;\n    }\n\n    .dataframe tbody tr th {\n        vertical-align: top;\n    }\n\n    .dataframe thead th {\n        text-align: right;\n    }\n</style>\n<table border=\"1\" class=\"dataframe\">\n  <thead>\n    <tr style=\"text-align: right;\">\n      <th></th>\n      <th>B-ORG</th>\n      <th>B-LOC</th>\n      <th>B-PER</th>\n    </tr>\n  </thead>\n  <tbody>\n    <tr>\n      <th>nl - train</th>\n      <td>7778</td>\n      <td>9964</td>\n      <td>9308</td>\n    </tr>\n    <tr>\n      <th>nl - validation</th>\n      <td>3943</td>\n      <td>4835</td>\n      <td>4754</td>\n    </tr>\n    <tr>\n      <th>nl - test</th>\n      <td>3908</td>\n      <td>5133</td>\n      <td>4684</td>\n    </tr>\n    <tr>\n      <th>fr - train</th>\n      <td>7764</td>\n      <td>9718</td>\n      <td>8965</td>\n    </tr>\n    <tr>\n      <th>fr - validation</th>\n      <td>3910</td>\n      <td>4840</td>\n      <td>4406</td>\n    </tr>\n    <tr>\n      <th>fr - test</th>\n      <td>3885</td>\n      <td>4985</td>\n      <td>4499</td>\n    </tr>\n    <tr>\n      <th>de - train</th>\n      <td>8575</td>\n      <td>9778</td>\n      <td>9290</td>\n    </tr>\n    <tr>\n      <th>de - validation</th>\n      <td>4281</td>\n      <td>4968</td>\n      <td>4569</td>\n    </tr>\n    <tr>\n      <th>de - test</th>\n      <td>4157</td>\n      <td>4961</td>\n      <td>4750</td>\n    </tr>\n    <tr>\n      <th>en - train</th>\n      <td>9422</td>\n      <td>9345</td>\n      <td>9164</td>\n    </tr>\n    <tr>\n      <th>en - validation</th>\n      <td>4677</td>\n      <td>4834</td>\n      <td>4635</td>\n    </tr>\n    <tr>\n      <th>en - test</th>\n      <td>4745</td>\n      <td>4657</td>\n      <td>4556</td>\n    </tr>\n  </tbody>\n</table>\n</div>"
     },
     "execution_count": 36,
     "metadata": {},
     "output_type": "execute_result"
    }
   ],
   "source": [
    "d = defaultdict(list)\n",
    "idx = list()\n",
    "\n",
    "for lang in langs:\n",
    "    for split in [\"train\", \"validation\", \"test\"]:\n",
    "        l = [a for i in panx_be[lang][split][\"ner_tags_str\"] for a in i if a.startswith(\"B-\")]\n",
    "        unique = list(dict.fromkeys(l))\n",
    "        d_tmp = {e: l.count(e) for e in unique}\n",
    "        for key, value in d_tmp.items():\n",
    "            d[key].append(value)\n",
    "        idx.append(f\"{lang} - {split}\")\n",
    "pd.DataFrame(d, idx)"
   ],
   "metadata": {
    "collapsed": false,
    "ExecuteTime": {
     "end_time": "2023-12-17T17:33:36.864073800Z",
     "start_time": "2023-12-17T17:33:34.559214900Z"
    }
   },
   "id": "a54fcd6b0dfb1b5"
  }
 ],
 "metadata": {
  "kernelspec": {
   "display_name": "Python 3",
   "language": "python",
   "name": "python3"
  },
  "language_info": {
   "codemirror_mode": {
    "name": "ipython",
    "version": 2
   },
   "file_extension": ".py",
   "mimetype": "text/x-python",
   "name": "python",
   "nbconvert_exporter": "python",
   "pygments_lexer": "ipython2",
   "version": "2.7.6"
  }
 },
 "nbformat": 4,
 "nbformat_minor": 5
}
