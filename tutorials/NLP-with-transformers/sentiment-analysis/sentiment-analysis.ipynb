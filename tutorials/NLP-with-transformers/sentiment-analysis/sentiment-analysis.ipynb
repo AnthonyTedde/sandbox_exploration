{
 "cells": [
  {
   "cell_type": "code",
   "execution_count": 3,
   "id": "initial_id",
   "metadata": {
    "ExecuteTime": {
     "end_time": "2023-12-22T17:59:58.233096200Z",
     "start_time": "2023-12-22T17:59:58.173538800Z"
    },
    "collapsed": true
   },
   "outputs": [
    {
     "ename": "ImportError",
     "evalue": "cannot import name 'UMAP' from 'umap' (c:\\Users\\tddnth\\workspace\\sandbox_exploration\\.venv\\Lib\\site-packages\\umap\\__init__.py)",
     "output_type": "error",
     "traceback": [
      "\u001b[1;31m---------------------------------------------------------------------------\u001b[0m",
      "\u001b[1;31mImportError\u001b[0m                               Traceback (most recent call last)",
      "Cell \u001b[1;32mIn[3], line 10\u001b[0m\n\u001b[0;32m      8\u001b[0m \u001b[38;5;28;01mfrom\u001b[39;00m \u001b[38;5;21;01mtransformers\u001b[39;00m \u001b[38;5;28;01mimport\u001b[39;00m AutoTokenizer, AutoModel\n\u001b[0;32m      9\u001b[0m \u001b[38;5;28;01mimport\u001b[39;00m \u001b[38;5;21;01mtorch\u001b[39;00m\n\u001b[1;32m---> 10\u001b[0m \u001b[38;5;28;01mfrom\u001b[39;00m \u001b[38;5;21;01mumap\u001b[39;00m \u001b[38;5;28;01mimport\u001b[39;00m UMAP\n\u001b[0;32m     12\u001b[0m \u001b[38;5;66;03m# sklearn\u001b[39;00m\n\u001b[0;32m     13\u001b[0m \u001b[38;5;28;01mfrom\u001b[39;00m \u001b[38;5;21;01msklearn\u001b[39;00m\u001b[38;5;21;01m.\u001b[39;00m\u001b[38;5;21;01mpreprocessing\u001b[39;00m \u001b[38;5;28;01mimport\u001b[39;00m MinMaxScaler\n",
      "\u001b[1;31mImportError\u001b[0m: cannot import name 'UMAP' from 'umap' (c:\\Users\\tddnth\\workspace\\sandbox_exploration\\.venv\\Lib\\site-packages\\umap\\__init__.py)"
     ]
    }
   ],
   "source": [
    "# --------------------\n",
    "# Libraries\n",
    "# --------------------\n",
    "\n",
    "from pathlib import Path\n",
    "\n",
    "from datasets import load_dataset\n",
    "from transformers import AutoTokenizer, AutoModel\n",
    "import torch\n",
    "from umap import UMAP\n",
    "\n",
    "# sklearn\n",
    "from sklearn.preprocessing import MinMaxScaler\n",
    "from sklearn.linear_model import LogisticRegression, LogisticRegressionCV\n",
    "\n",
    "# Optuna\n",
    "import optuna\n",
    "\n",
    "import matplotlib.pyplot as plt\n",
    "import pandas as pd\n",
    "import numpy as np\n",
    "\n",
    "import os\n",
    "\n",
    "# --------------------\n",
    "# global variables\n",
    "# --------------------\n",
    "model_ckpt = \"distilbert-base-uncased\"\n",
    "data_dir = Path(\"~/workspace/nlp_exploration/data\")\n",
    "device = \"cuda\" if torch.cuda.is_available() else \"cpu\""
   ]
  },
  {
   "cell_type": "markdown",
   "id": "fec15a4739b367d",
   "metadata": {
    "collapsed": false
   },
   "source": [
    "# Chargement du jeu de donné"
   ]
  },
  {
   "cell_type": "markdown",
   "id": "af51767b70db62a2",
   "metadata": {
    "collapsed": false
   },
   "source": [
    "Le jeu de données \"emotions\" est composé de trois sous-ensembles distincts : \"train\" (entraînement), \"validation\" et \"test\". Ces sous-ensembles servent à des fins spécifiques dans le processus de développement et d'évaluation d'un modèle. \n",
    "\n",
    "1. **Ensemble d'entraînement (\"train\") :**\n",
    "   - Fonction : Utilisé pour entraîner le modèle d'apprentissage automatique.\n",
    "   - Objectif : Permettre au modèle d'ajuster ses paramètres en fonction des données fournies, afin d'apprendre les motifs et les caractéristiques associés aux différentes classes d'émotions.\n",
    "\n",
    "2. **Ensemble de validation (\"validation\") :**\n",
    "   - Fonction : Utilisé pour ajuster les hyperparamètres du modèle et éviter le surajustement.\n",
    "   - Objectif : Évaluer la performance du modèle sur des données distinctes de celles utilisées pour l'entraînement, permettant ainsi d'optimiser les paramètres du modèle tout en évitant une adaptation trop spécifique aux données d'entraînement.\n",
    "\n",
    "3. **Ensemble de test (\"test\") :**\n",
    "   - Fonction : Utilisé pour évaluer la performance finale du modèle.\n",
    "   - Objectif : Fournir une évaluation objective du modèle sur des données qu'il n'a jamais vues auparavant, simulant ainsi son comportement réel lorsqu'il est confronté à de nouvelles données.\n",
    "\n",
    "En utilisant ces trois sous-ensembles de manière distincte, on s'assure que le modèle est capable de généraliser ses connaissances à des données inconnues tout en étant suffisamment robuste pour faire face à des scénarios du monde réel."
   ]
  },
  {
   "cell_type": "code",
   "execution_count": 3,
   "id": "fa15fcfea29d7485",
   "metadata": {
    "ExecuteTime": {
     "end_time": "2023-12-22T17:53:05.331063400Z",
     "start_time": "2023-12-22T17:53:03.156572Z"
    },
    "collapsed": false
   },
   "outputs": [
    {
     "name": "stderr",
     "output_type": "stream",
     "text": [
      "c:\\Users\\tddnth\\workspace\\sandbox_exploration\\.venv\\Lib\\site-packages\\datasets\\load.py:1429: FutureWarning: The repository for emotion contains custom code which must be executed to correctly load the dataset. You can inspect the repository content at https://hf.co/datasets/emotion\n",
      "You can avoid this message in future by passing the argument `trust_remote_code=True`.\n",
      "Passing `trust_remote_code=True` will be mandatory to load this dataset from the next major release of `datasets`.\n",
      "  warnings.warn(\n"
     ]
    }
   ],
   "source": [
    "emotions = load_dataset(path=\"emotion\")"
   ]
  },
  {
   "cell_type": "code",
   "execution_count": 3,
   "id": "9e9167ae5ca54d9d",
   "metadata": {
    "ExecuteTime": {
     "end_time": "2023-12-22T17:53:05.394926Z",
     "start_time": "2023-12-22T17:53:05.331617800Z"
    },
    "collapsed": false
   },
   "outputs": [],
   "source": [
    "# Création d'une nouvelle colonne dans les jeux de données \"label_name\" afin de rendre plus explicite le nom de la cible\n",
    "emotions_names = emotions[\"train\"].features[\"label\"].names\n",
    "\n",
    "def label_int2str(batch):\n",
    "    return {\n",
    "        \"label_name\": [emotions_names[idx] for idx in batch[\"label\"]]\n",
    "    }\n",
    "\n",
    "emotions = emotions.map(label_int2str, batched=True)"
   ]
  },
  {
   "cell_type": "markdown",
   "id": "b174665198d3e0c9",
   "metadata": {
    "collapsed": false
   },
   "source": [
    "La figure ci-dessous démontre que les proportions relatives des différentes classes d'émotions sont maintenues à travers les ensembles d'entraînement et de validation. Cela indique que la distribution des données lors de la constitution de ces ensembles a été réalisée par stratification."
   ]
  },
  {
   "cell_type": "code",
   "execution_count": 4,
   "id": "edb86005b55ae647",
   "metadata": {
    "ExecuteTime": {
     "end_time": "2023-12-22T17:53:05.717220100Z",
     "start_time": "2023-12-22T17:53:05.365183200Z"
    },
    "collapsed": false
   },
   "outputs": [
    {
     "data": {
      "image/png": "[encoded data removed]",
      "text/plain": [
       "<Figure size 640x480 with 1 Axes>"
      ]
     },
     "metadata": {},
     "output_type": "display_data"
    }
   ],
   "source": [
    "emotions.set_format(type=\"pandas\")\n",
    "\n",
    "train = emotions[\"train\"][:]\n",
    "train[\"type\"] = \"train\"\n",
    "validation = emotions[\"validation\"][:]\n",
    "validation[\"type\"] = \"validation\"\n",
    "\n",
    "ds = pd.concat([train, validation])\n",
    "\n",
    "ds.groupby(\"type\").label_name.value_counts(normalize=True, ascending=True).unstack(0).plot.barh()\n",
    "plt.title(\"Frequency of classes\")\n",
    "plt.ylabel(\"Emotions\")\n",
    "plt.xlabel(\"Relative frequency\")\n",
    "plt.show()\n",
    "\n",
    "emotions.reset_format()"
   ]
  },
  {
   "cell_type": "markdown",
   "id": "ef0ae636a087cbb5",
   "metadata": {
    "collapsed": false
   },
   "source": [
    "Nous constatons un déséquilibre au niveau des classes. Afin de traiter ce type de déséquilibre dans la variable cible, il est possible d'utiliser la bibliothèque [imbalanced-learn](https://imbalanced-learn.org/stable/)."
   ]
  },
  {
   "cell_type": "markdown",
   "id": "413233d59114d066",
   "metadata": {
    "collapsed": false
   },
   "source": [
    "# Subword tokenization"
   ]
  },
  {
   "cell_type": "code",
   "execution_count": 5,
   "id": "8952bfb277a90b53",
   "metadata": {
    "ExecuteTime": {
     "end_time": "2023-12-22T17:53:05.982422600Z",
     "start_time": "2023-12-22T17:53:05.719377300Z"
    },
    "collapsed": false
   },
   "outputs": [],
   "source": [
    "tokenizer = AutoTokenizer.from_pretrained(pretrained_model_name_or_path=model_ckpt)"
   ]
  },
  {
   "cell_type": "markdown",
   "id": "84fdd6db9106f2cc",
   "metadata": {
    "collapsed": false
   },
   "source": [
    "## Quelques attributs et méthodes intéressants"
   ]
  },
  {
   "cell_type": "markdown",
   "id": "9ddad0e7c142394b",
   "metadata": {
    "collapsed": false
   },
   "source": [
    "### Méthodes de conversion"
   ]
  },
  {
   "cell_type": "code",
   "execution_count": 6,
   "id": "5637122daaa766f4",
   "metadata": {
    "ExecuteTime": {
     "end_time": "2023-12-22T17:53:06.008839700Z",
     "start_time": "2023-12-22T17:53:05.986682Z"
    },
    "collapsed": false
   },
   "outputs": [
    {
     "name": "stdout",
     "output_type": "stream",
     "text": [
      "tokens: ['[CLS]', 'my', 'cat', 'loves', 'sleeping', 'all', 'day', 'long', '.', '[SEP]']\n",
      "ids: [101, 2026, 4937, 7459, 5777, 2035, 2154, 2146, 1012, 102]\n",
      "string: [CLS] my cat loves sleeping all day long. [SEP]\n",
      "size: [101, 2026, 4937, 7459, 5777, 2035, 2154, 2146, 1012, 102]\n"
     ]
    }
   ],
   "source": [
    "text = \"My cat loves sleeping all day long.\"\n",
    "encoded_text = tokenizer(text)\n",
    "# ids -> tokens\n",
    "# tokenize\n",
    "tokens = tokenizer.convert_ids_to_tokens(encoded_text[\"input_ids\"])\n",
    "print(f\"tokens: {tokens}\")\n",
    "\n",
    "# tokens -> ids\n",
    "ids = tokenizer.convert_tokens_to_ids(tokens)\n",
    "print(f\"ids: {ids}\")\n",
    "\n",
    "\n",
    "# tokens -> strings\n",
    "string = tokenizer.convert_tokens_to_string(tokens)\n",
    "print(f\"string: {string}\")\n",
    "\n",
    "print(f\"size: {encoded_text['input_ids']}\")\n"
   ]
  },
  {
   "cell_type": "markdown",
   "id": "f3e9d52b1cc4befd",
   "metadata": {
    "collapsed": false
   },
   "source": [
    "### Attributs sur l'état d'entrainement du modèle"
   ]
  },
  {
   "cell_type": "code",
   "execution_count": 7,
   "id": "51fcedfc990ed7fd",
   "metadata": {
    "ExecuteTime": {
     "end_time": "2023-12-22T17:53:06.133838Z",
     "start_time": "2023-12-22T17:53:06.003782800Z"
    },
    "collapsed": false
   },
   "outputs": [
    {
     "name": "stdout",
     "output_type": "stream",
     "text": [
      "Taille du vocabulaire: 30522\n",
      "Noms des éléments retournés par défault par le tokenizer: ['input_ids', 'attention_mask']\n",
      "Taille maximale acceptée par ce modèle et autres dérivés du modèle:\n",
      "{'distilbert-base-uncased': 512, 'distilbert-base-uncased-distilled-squad': 512, 'distilbert-base-cased': 512, 'distilbert-base-cased-distilled-squad': 512, 'distilbert-base-german-cased': 512, 'distilbert-base-multilingual-cased': 512}\n",
      "Taille maximale acceptée par ce modèle: 512\n",
      "Nom du modèle: distilbert-base-uncased\n",
      "Tokens spéciaux: ['[UNK]', '[SEP]', '[PAD]', '[CLS]', '[MASK]']\n",
      "Id des tokens spéciaux: [100, 102, 0, 101, 103]\n",
      "Fichiers contenant le vocabulaire: {'vocab_file': 'vocab.txt', 'tokenizer_file': 'tokenizer.json'}\n"
     ]
    }
   ],
   "source": [
    "print(f\"Taille du vocabulaire: {tokenizer.vocab_size}\")\n",
    "print(f\"Noms des éléments retournés par défault par le tokenizer: {tokenizer.model_input_names}\")\n",
    "print(\"Taille maximale acceptée par ce modèle et autres dérivés du modèle:\")\n",
    "print(tokenizer.max_model_input_sizes)\n",
    "print(f\"Taille maximale acceptée par ce modèle: {tokenizer.model_max_length}\")\n",
    "print(f\"Nom du modèle: {tokenizer.name_or_path}\")\n",
    "print(f\"Tokens spéciaux: {tokenizer.all_special_tokens}\")\n",
    "print(f\"Id des tokens spéciaux: {tokenizer.all_special_ids}\")\n",
    "\n",
    "# L'accès à tout le vocabulaire du modèle se fait par le dictionnaire : Tokenizer.vocab\n",
    "print(f\"Fichiers contenant le vocabulaire: {tokenizer.vocab_files_names}\")"
   ]
  },
  {
   "cell_type": "markdown",
   "id": "47d8593ee5bb974e",
   "metadata": {
    "collapsed": false
   },
   "source": [
    "## Tokenization du jeu de données"
   ]
  },
  {
   "cell_type": "markdown",
   "id": "25ba36540a92218b",
   "metadata": {
    "collapsed": false
   },
   "source": [
    "La classe mére de DistilbertTokenizer(PretrainedTokenizer) contient aussi des méthodes, attributs et propriétés intéressantes, e.g., [PreTrainedTokenizer.is_fast](https://github.com/huggingface/transformers/blob/main/src/transformers/tokenization_utils.py#L375).\n",
    "\n",
    "Si la propriété `is_fast` est vrai, alors le tokenizer utilise une méthode de tokenization optimisée et plus rapide écrite en Rust."
   ]
  },
  {
   "cell_type": "code",
   "execution_count": 8,
   "id": "381af9f7ceb59951",
   "metadata": {
    "ExecuteTime": {
     "end_time": "2023-12-22T17:53:06.165823200Z",
     "start_time": "2023-12-22T17:53:06.014875100Z"
    },
    "collapsed": false
   },
   "outputs": [
    {
     "data": {
      "text/plain": [
       "True"
      ]
     },
     "execution_count": 8,
     "metadata": {},
     "output_type": "execute_result"
    }
   ],
   "source": [
    "tokenizer.is_fast"
   ]
  },
  {
   "cell_type": "markdown",
   "id": "83d8a94e10e5900",
   "metadata": {
    "collapsed": false
   },
   "source": [
    "Tokenizer.tokenize() --> DistilbertTokenizer(PreTrainedTokenizer(PreTrainedTokenizerBase)) [PreTrainedTokenizer.tokenize()](https://github.com/huggingface/transformers/blob/main/src/transformers/tokenization_utils.py#L541C9-L541C17)\n",
    "\n",
    "La methode [PreTrainedTokenizerBase.\\_\\_call__()](https://github.com/huggingface/transformers/blob/main/src/transformers/tokenization_utils_base.py#L2729) est appelée par: tokenizer(batch). Ensuite elle renvoie vers _call_one -> encode_plus... à la fin du pipe, le texte est tokenizé. Cette méthode peut être consultée pour accéder à tous les paramètres utiles.\n",
    "\n",
    "Quelques uns des arguments intéressants sont listés ci-dessous:\n",
    "\n",
    "- **text**: Union[TextInput, PreTokenizedInput, List[TextInput], List[PreTokenizedInput]] = None,\n",
    "- **text_pair**: Optional[Union[TextInput, PreTokenizedInput, List[TextInput], List[PreTokenizedInput]]] = None,\n",
    "- **text_target**: Union[TextInput, PreTokenizedInput, List[TextInput], List[PreTokenizedInput]] = None,\n",
    "- **text_pair_target**: Optional[Union[TextInput, PreTokenizedInput, List[TextInput], List[PreTokenizedInput]]] = None,\n",
    "- **add_special_tokens**: bool = True,\n",
    "- **padding**: Union[bool, str, PaddingStrategy] = False,\n",
    "- **truncation**: Union[bool, str, TruncationStrategy] = None,\n",
    "- **max_length**: Optional[int] = None,\n",
    "- **stride**: int = 0,\n",
    "- **is_split_into_words**: bool = False,\n",
    "- **pad_to_multiple_of**: Optional[int] = None,\n",
    "- **return_tensors**: Optional[Union[str, TensorType]] = None,\n",
    "- **return_token_type_ids**: Optional[bool] = None,\n",
    "- **return_attention_mask**: Optional[bool] = None,\n",
    "- **return_overflowing_tokens**: bool = False,\n",
    "- **return_special_tokens_mask**: bool = False,\n",
    "- **return_offsets_mapping**: bool = False,\n",
    "- **return_length**: bool = False,\n",
    "- **verbose**: bool = True,\n"
   ]
  },
  {
   "cell_type": "code",
   "execution_count": 9,
   "id": "b8da0859d6eaa188",
   "metadata": {
    "ExecuteTime": {
     "end_time": "2023-12-22T17:53:06.167868100Z",
     "start_time": "2023-12-22T17:53:06.027556200Z"
    },
    "collapsed": false
   },
   "outputs": [],
   "source": [
    "def tokenize_batch(batch):\n",
    "    return tokenizer(batch[\"text\"], padding=True, truncation=True, return_tensors=\"pt\")\n",
    "\n",
    "encoded_emotions = emotions.map(function=tokenize_batch, batched=True, batch_size=1000)"
   ]
  },
  {
   "cell_type": "markdown",
   "id": "2241879e8c982b53",
   "metadata": {
    "collapsed": false
   },
   "source": [
    "### Remarque importante : Mise des informations encodées au format pytorch"
   ]
  },
  {
   "cell_type": "markdown",
   "id": "f8e136b4a2bbb5a3",
   "metadata": {
    "collapsed": false
   },
   "source": [
    "Malgré la mention `return_tensors=\"pt\"` dans les arguments du tokenizer, les valeurs `input_ids` et `attention_mask` ne sont pas codées comme des tenseurs pytorch:"
   ]
  },
  {
   "cell_type": "code",
   "execution_count": 10,
   "id": "74a00fa48cf6acaa",
   "metadata": {
    "ExecuteTime": {
     "end_time": "2023-12-22T17:53:06.189238200Z",
     "start_time": "2023-12-22T17:53:06.094093500Z"
    },
    "collapsed": false
   },
   "outputs": [],
   "source": [
    "# print(encoded_emotions[\"train\"][\"input_ids\"][0].size())"
   ]
  },
  {
   "cell_type": "markdown",
   "id": "fec28aa41fc7000a",
   "metadata": {
    "collapsed": false
   },
   "source": [
    "Une solution consiste à ne pas utiliser l'argument `return_tensors`, mais plutôt à utiliser la méthode `set_format` de la classe `DatasetDict` de Hugging Face pour convertir les colonnes souhaitées au format tensoriel de PyTorch, comme illustré ci-dessous. \n",
    "\n",
    "La méthode `set_format` effectue le changement \"in place\", ce qui signifie qu'aucune assignation n'est nécessaire pour pérenniser la modification. À la place, l'objet est mis à jour avec le nouveau format. Pour revenir au format d'origine, il suffit d'utiliser la méthode `reset_format`."
   ]
  },
  {
   "cell_type": "code",
   "execution_count": 11,
   "id": "55ee23fae133149b",
   "metadata": {
    "ExecuteTime": {
     "end_time": "2023-12-22T17:53:06.427937200Z",
     "start_time": "2023-12-22T17:53:06.108376700Z"
    },
    "collapsed": false
   },
   "outputs": [
    {
     "name": "stdout",
     "output_type": "stream",
     "text": [
      "torch.Size([70])\n"
     ]
    }
   ],
   "source": [
    "encoded_emotions.set_format(type=\"torch\", columns=[\"input_ids\", \"attention_mask\", \"label\"])\n",
    "print(encoded_emotions[\"train\"][\"input_ids\"][0].size())"
   ]
  },
  {
   "cell_type": "markdown",
   "id": "652f0d224fddc9c1",
   "metadata": {
    "collapsed": false
   },
   "source": [
    "Néanmoins, il faut noter que cet argument fonctionne correctement pour la tokenization de sequence simple, or utilisation de la méthode `map` de DataSetDict:"
   ]
  },
  {
   "cell_type": "code",
   "execution_count": 12,
   "id": "8e835c752ab3b453",
   "metadata": {
    "ExecuteTime": {
     "end_time": "2023-12-22T17:53:06.427937200Z",
     "start_time": "2023-12-22T17:53:06.404240800Z"
    },
    "collapsed": false
   },
   "outputs": [
    {
     "name": "stdout",
     "output_type": "stream",
     "text": [
      "tensor([ 101, 7592, 1045, 2572, 5537,  102])\n"
     ]
    }
   ],
   "source": [
    "sequence = \"Hello I am sequence\"\n",
    "encoded_sequence = tokenizer(sequence, return_tensors=\"pt\")\n",
    "print(encoded_sequence[\"input_ids\"][0]) "
   ]
  },
  {
   "cell_type": "markdown",
   "id": "98893799017db6fb",
   "metadata": {
    "collapsed": false
   },
   "source": [
    "# Entrainement de Distilbert comme analyseur de sentiment"
   ]
  },
  {
   "cell_type": "markdown",
   "id": "29f771071f3243a",
   "metadata": {
    "collapsed": false
   },
   "source": [
    "## En utilisant le Transformer comme extracteur de caractéristiques (Feature Extractors)"
   ]
  },
  {
   "cell_type": "markdown",
   "id": "f004eea008b9fa9b",
   "metadata": {
    "collapsed": false
   },
   "source": [
    "### Quelques explications"
   ]
  },
  {
   "cell_type": "markdown",
   "id": "1c29a2780f1ab916",
   "metadata": {
    "collapsed": false
   },
   "source": [
    "- [AutoModel](https://huggingface.co/docs/transformers/main/en/model_doc/auto#transformers.AutoModel)\n",
    "- [AutoDistilbert](https://huggingface.co/docs/transformers/main/en/model_doc/distilbert#transformers.DistilBertModel)\n",
    "\n",
    "L'objectif de ces classes est de convertir les __token encodings__ en __embeddings__ avant d'en retourner le __hidden state__ du token initial."
   ]
  },
  {
   "cell_type": "code",
   "execution_count": 13,
   "id": "a27d0a2161924de5",
   "metadata": {
    "ExecuteTime": {
     "end_time": "2023-12-22T17:53:10.770120600Z",
     "start_time": "2023-12-22T17:53:06.413068700Z"
    },
    "collapsed": false
   },
   "outputs": [],
   "source": [
    "model = AutoModel.from_pretrained(pretrained_model_name_or_path=model_ckpt).to(device)"
   ]
  },
  {
   "cell_type": "markdown",
   "id": "87fdfe3a78876be2",
   "metadata": {
    "collapsed": false
   },
   "source": [
    "La méthode [is\\_parallelizable](https://github.com/huggingface/transformers/blob/v4.36.2/src/transformers/modeling_utils.py#L1129) de la classe `PreTrainedModel` permet de déterminer si ce modèle prend en charge la parallélisation du modèle.\n",
    "\n",
    "Lorsque la méthode `is_parallelizable` pour un modèle, comme DistilBERT par exemple, est définie comme faux, cela signifie que le modèle n'est pas conçu pour être facilement parallélisable dans le cadre du traitement distribué ou de la parallélisation du modèle. En d'autres termes, il peut être plus difficile de diviser efficacement le travail entre plusieurs processeurs ou dispositifs de calcul.\n",
    "\n",
    "Cela peut avoir des implications sur les performances et l'évolutivité du modèle lorsqu'il est déployé dans un environnement distribué ou sur des architectures matérielles spécifiques. Un modèle non parallélisable pourrait présenter des limitations en termes de vitesse d'entraînement ou d'inférence lorsque la charge de travail est répartie sur plusieurs unités de traitement, car il ne tire pas pleinement parti des avantages de la parallélisation.\n",
    "\n",
    "Dans le cas de DistilBERT, qui a `is_parallelizable` défini comme faux, il est important de prendre en compte ces considérations lors de l'intégration ou du déploiement du modèle dans des environnements où la parallélisation du modèle est une exigence ou une considération importante."
   ]
  },
  {
   "cell_type": "code",
   "execution_count": 14,
   "id": "8e134a25cf4529c0",
   "metadata": {
    "ExecuteTime": {
     "end_time": "2023-12-22T17:53:10.802103800Z",
     "start_time": "2023-12-22T17:53:10.777302800Z"
    },
    "collapsed": false
   },
   "outputs": [
    {
     "name": "stdout",
     "output_type": "stream",
     "text": [
      "Est-ce que le modèle est parallélisable? False\n"
     ]
    }
   ],
   "source": [
    "print(f\"Est-ce que le modèle est parallélisable? {model.is_parallelizable}\")"
   ]
  },
  {
   "cell_type": "markdown",
   "id": "38fa8e0b041072ac",
   "metadata": {
    "collapsed": false
   },
   "source": [
    "L'appel de fonction `model(**inputs)` opère sur un objet construit à partir de la méthode `from_pretrained` de la classe `AutoModel`. Lors de cet appel, l'objet retourné par la méthode `from_pretrained` est une instance de la classe [DistilBertModel(DistilBertPreTrainedModel)](https://github.com/huggingface/transformers/blob/v4.36.2/src/transformers/models/distilbert/modeling_distilbert.py#L702). Il est important de noter que cette classe [DistilBertPreTrainedModel](https://github.com/huggingface/transformers/blob/v4.36.2/src/transformers/models/distilbert/modeling_distilbert.py#L616) hérite de [PreTrainedModel](https://github.com/huggingface/transformers/blob/v4.36.2/src/transformers/modeling_utils.py#L1106), elle-même héritant de la classe [Module](https://github.com/pytorch/pytorch/blob/v2.1.2/torch/nn/modules/module.py#L375) de PyTorch.\n",
    "\n",
    "Pour comprendre l'action effectuée par l'appel à l'objet `model(...)`, il est nécessaire de remonter la hiérarchie jusqu'à la méthode [\\_\\_call__](https://github.com/pytorch/pytorch/blob/v2.1.2/torch/nn/modules/module.py#L1641), héritée de `DistilBertModel` par son ancêtre `nn.Module`. Ensuite, `__call__` conduit à [_wrapped_call_impl](https://github.com/pytorch/pytorch/blob/v2.1.2/torch/nn/modules/module.py#L1514), qui à son tour renvoie vers [_call_impl](https://github.com/pytorch/pytorch/blob/v2.1.2/torch/nn/modules/module.py#L1520). En prenant quelques raccourcis, cela aboutit finalement à un appel de la méthode [forward](https://github.com/huggingface/transformers/blob/v4.36.2/src/transformers/models/distilbert/modeling_distilbert.py#L781) de la classe `DistilBertModel`. Ainsi, l'action principale de l'appel `model(**inputs)` est d'exécuter la méthode `forward` de la classe `DistilBertModel`.\n",
    "\n",
    "Voici les arguments pris par la fonction `forward`: \n",
    "\n",
    "- **input_ids**: Optional[torch.Tensor] = None,\n",
    "- **attention_mask**: Optional[torch.Tensor] = None,\n",
    "- **head_mask**: Optional[torch.Tensor] = None,\n",
    "- **inputs_embeds**: Optional[torch.Tensor] = None,\n",
    "- **output_attentions**: Optional[bool] = None,\n",
    "- **output_hidden_states**: Optional[bool] = None,\n",
    "- **return_dict**: Optional[bool] = None,\n",
    "\n",
    "\n",
    "L'appel à [torch.no_grad()](https://pytorch.org/docs/2.1/generated/torch.no_grad.html#torch.no_grad) désactive le calcul des gradients. En l'utilisant, on réduit la consommation de mémoire lors de l'inférence, garantissant que les calculs ne requièrent pas de gradients. Dans ce mode, les résultats ont requires_grad=False, sauf pour les fonctions d'usine. Ce gestionnaire de contexte agit au niveau du thread et peut également être utilisé comme décorateur."
   ]
  },
  {
   "cell_type": "markdown",
   "id": "4b1c918e355b64ef",
   "metadata": {
    "collapsed": false
   },
   "source": [
    "### Extraction de la dernière couche cachée associé au token [CLS]"
   ]
  },
  {
   "cell_type": "markdown",
   "id": "dc4352fadd5ae1ea",
   "metadata": {
    "collapsed": false
   },
   "source": [
    "-> Expliquer pourquoi uniquement se concentrer sur le token [CLS]"
   ]
  },
  {
   "cell_type": "code",
   "execution_count": 15,
   "id": "4bbaa71d5c09d243",
   "metadata": {
    "ExecuteTime": {
     "end_time": "2023-12-22T17:53:14.214800100Z",
     "start_time": "2023-12-22T17:53:10.790408800Z"
    },
    "collapsed": false
   },
   "outputs": [],
   "source": [
    "\n",
    "def extract_hidden_states(batch) -> np:\n",
    "    # TODO: Paralléliser par batch\n",
    "    batch_to_device = {k: v.to(device) for k, v in batch.items() if k in tokenizer.model_input_names}\n",
    "    with torch.no_grad():\n",
    "        hidden_states = model(**batch_to_device)\n",
    "    return {\n",
    "        # Only return le [CLS] information (last_hidden_state[:, 0])\n",
    "        \"last_hidden_state\": hidden_states.last_hidden_state[:, 0].cpu().numpy()\n",
    "    }\n",
    "    \n",
    "hidden_emotions = encoded_emotions.map(function=extract_hidden_states, \n",
    "                                       batched=True, batch_size=1000, \n",
    "                                       num_proc=1)"
   ]
  },
  {
   "cell_type": "markdown",
   "id": "2e56eafdaca56d69",
   "metadata": {
    "collapsed": false
   },
   "source": [
    "La méthode [Tensor.cpu](https://pytorch.org/docs/stable/generated/torch.Tensor.cpu.html#torch.Tensor.cpu) dans PyTorch permet de déplacer une copie d'un tenseur, une structure multidimensionnelle en mémoire du processeur (CPU). PyTorch offre la flexibilité de stocker et traiter les tenseurs sur divers dispositifs tels que les processeurs (CPUs) et les processeurs graphiques (GPUs). Cette méthode facilite le déplacement d'un tenseur d'un autre dispositif, tel qu'un GPU, vers le CPU. D'autre part, [Tensor.numpy](https://pytorch.org/docs/stable/generated/torch.Tensor.numpy.html#torch.Tensor.numpy) est une autre méthode de PyTorch qui permet de convertir un tenseur en un tableau NumPy.\n",
    "\n",
    "Pour [plus d'informations](https://pytorch.org/docs/stable/tensors.html) sur les méthodes et attributs associés à la classe Tensor de PyTorch.\n",
    "\n",
    "On remarquera que le résultat de la fonction `extract_hidden_states` est ajouté au contenu existant de l'objet `encoded_emotion`. En fin de compte, une copie de ce nouvel objet est créée en retour de la méthode `map` et assignée à un nouvel objet appelé `hidden_emotions`, qui contient les éléments suivants."
   ]
  },
  {
   "cell_type": "code",
   "execution_count": 16,
   "id": "9c127e1025a8276a",
   "metadata": {
    "ExecuteTime": {
     "end_time": "2023-12-22T17:53:14.236371400Z",
     "start_time": "2023-12-22T17:53:14.214800100Z"
    },
    "collapsed": false
   },
   "outputs": [
    {
     "data": {
      "text/plain": [
       "['text',\n",
       " 'label',\n",
       " 'label_name',\n",
       " 'input_ids',\n",
       " 'attention_mask',\n",
       " 'last_hidden_state']"
      ]
     },
     "execution_count": 16,
     "metadata": {},
     "output_type": "execute_result"
    }
   ],
   "source": [
    "hidden_emotions[\"train\"].column_names"
   ]
  },
  {
   "cell_type": "markdown",
   "id": "6f05cabb1af99e2e",
   "metadata": {
    "collapsed": false
   },
   "source": [
    "Malgré le retourn de la fonction `extract_hidden_states` (`.cpu().numpy()`), le contenu de la clé `last_hidden_state` est de type torch.Tensor. Ce que je n'explique pas encode à ce stade. Il faudrait creuser le fonctionnement de la méthode [map](https://huggingface.co/docs/datasets/package_reference/main_classes#datasets.DatasetDict.map) de DatasetDict.\n",
    "\n",
    "Autre piste: investiguer avec le debugger."
   ]
  },
  {
   "cell_type": "code",
   "execution_count": 17,
   "id": "d5b704d6807c9149",
   "metadata": {
    "ExecuteTime": {
     "end_time": "2023-12-22T17:53:14.356300900Z",
     "start_time": "2023-12-22T17:53:14.225448Z"
    },
    "collapsed": false
   },
   "outputs": [
    {
     "data": {
      "text/plain": [
       "torch.Tensor"
      ]
     },
     "execution_count": 17,
     "metadata": {},
     "output_type": "execute_result"
    }
   ],
   "source": [
    "type(hidden_emotions[\"train\"][\"last_hidden_state\"][0])"
   ]
  },
  {
   "cell_type": "markdown",
   "id": "32a9db88c9e60ff6",
   "metadata": {
    "collapsed": false
   },
   "source": [
    "### Création d'une matrice de composantes"
   ]
  },
  {
   "cell_type": "markdown",
   "id": "30a9855025fafbe5",
   "metadata": {
    "collapsed": false
   },
   "source": [
    "Dans cette section, étant donné que nous allons utiliser des modélisations simples, nous regrouperons les dimensions d'entraînement et de validation. Ensuite, nous ferons appel à la bibliothèque scikit-learn afin de mettre en place un ensemble de validation croisée pour ajuster les hyperparamètres des modèles."
   ]
  },
  {
   "cell_type": "code",
   "execution_count": 18,
   "id": "5619d8f00bfb4162",
   "metadata": {
    "ExecuteTime": {
     "end_time": "2023-12-22T17:53:14.484284800Z",
     "start_time": "2023-12-22T17:53:14.287636400Z"
    },
    "collapsed": false
   },
   "outputs": [
    {
     "data": {
      "text/plain": [
       "((18000, 768), (2000, 768))"
      ]
     },
     "execution_count": 18,
     "metadata": {},
     "output_type": "execute_result"
    }
   ],
   "source": [
    "X_train_tensor = torch.cat(\n",
    "    (hidden_emotions[\"train\"][\"last_hidden_state\"],\n",
    "     hidden_emotions[\"validation\"][\"last_hidden_state\"]),\n",
    "    dim=0)\n",
    "y_train_tensor = torch.cat(\n",
    "    (hidden_emotions[\"train\"][\"label\"], \n",
    "     hidden_emotions[\"validation\"][\"label\"]),\n",
    "    dim=0\n",
    ")\n",
    "X_train = np.array(X_train_tensor)\n",
    "y_train = np.array(y_train_tensor)\n",
    "X_test = np.array(hidden_emotions[\"test\"][\"last_hidden_state\"])\n",
    "y_test = np.array(hidden_emotions[\"test\"][\"label\"])\n",
    "\n",
    "X_train.shape, X_test.shape"
   ]
  },
  {
   "cell_type": "markdown",
   "id": "5ecc300c8794a21d",
   "metadata": {
    "collapsed": false
   },
   "source": [
    "### Visualisation"
   ]
  },
  {
   "cell_type": "code",
   "execution_count": 19,
   "id": "f3caf9f73031bbd9",
   "metadata": {
    "ExecuteTime": {
     "end_time": "2023-12-22T17:53:43.172644600Z",
     "start_time": "2023-12-22T17:53:14.388508100Z"
    },
    "collapsed": false
   },
   "outputs": [],
   "source": [
    "X_scaled = MinMaxScaler().fit_transform(X_train)\n",
    "mapper = UMAP(n_components=2, metric=\"cosine\").fit(X_scaled)\n",
    "\n",
    "stacked_data = np.column_stack((mapper.embedding_, y_train))\n",
    "df_emb = pd.DataFrame(stacked_data, columns=[\"X\", \"Y\", \"label\"]) \n"
   ]
  },
  {
   "cell_type": "code",
   "execution_count": 20,
   "id": "c1537703d91ce794",
   "metadata": {
    "ExecuteTime": {
     "end_time": "2023-12-22T17:53:43.435565600Z",
     "start_time": "2023-12-22T17:53:43.172644600Z"
    },
    "collapsed": false
   },
   "outputs": [
    {
     "data": {
      "image/png": "[encoded data removed]",
      "text/plain": [
       "<Figure size 800x500 with 6 Axes>"
      ]
     },
     "metadata": {},
     "output_type": "display_data"
    }
   ],
   "source": [
    "# 1. Set the plot configuration\n",
    "fig, axes = plt.subplots(2, 3, figsize=(8, 5))\n",
    "axes = axes.flatten()\n",
    "cmaps = [\"Greys\", \"Blues\", \"Oranges\", \"Reds\", \"Purples\", \"Greens\"]\n",
    "labels = hidden_emotions[\"train\"].features[\"label\"].names\n",
    "\n",
    "for i, (label, color) in enumerate(zip(labels, cmaps)):\n",
    "    df_emb_tmp = df_emb.query(f\"label == {i}\")\n",
    "    axes[i].hexbin(x=df_emb_tmp.X, y=df_emb_tmp.Y, cmap=color, gridsize=15)\n",
    "    axes[i].set_title(label)\n",
    "    axes[i].set_xticks([]), axes[i].set_yticks([])\n",
    "# 2. Build the chart"
   ]
  },
  {
   "cell_type": "markdown",
   "id": "91daa916fc886fd3",
   "metadata": {
    "collapsed": false
   },
   "source": [
    "### Entrainement avec quelques classificateurs"
   ]
  },
  {
   "cell_type": "markdown",
   "id": "6c59f932b0b72345",
   "metadata": {
    "collapsed": false
   },
   "source": [
    "#### Régression logistique (softmax)"
   ]
  },
  {
   "cell_type": "code",
   "execution_count": 21,
   "id": "26cc614a4b6ef92e",
   "metadata": {
    "ExecuteTime": {
     "end_time": "2023-12-22T17:53:43.452843Z",
     "start_time": "2023-12-22T17:53:43.437693300Z"
    },
    "collapsed": false
   },
   "outputs": [
    {
     "data": {
      "text/plain": [
       "12"
      ]
     },
     "execution_count": 21,
     "metadata": {},
     "output_type": "execute_result"
    }
   ],
   "source": [
    "import multiprocessing\n",
    "\n",
    "multiprocessing.cpu_count()"
   ]
  },
  {
   "cell_type": "code",
   "execution_count": null,
   "id": "837405295e99922",
   "metadata": {
    "ExecuteTime": {
     "start_time": "2023-12-22T18:34:21.116146100Z"
    },
    "collapsed": false,
    "is_executing": true
   },
   "outputs": [
    {
     "name": "stderr",
     "output_type": "stream",
     "text": [
      "C:\\Users\\tddnth\\workspace\\nlp_exploration\\.venv\\Lib\\site-packages\\optuna\\samplers\\_tpe\\sampler.py:295: ExperimentalWarning: ``multivariate`` option is an experimental feature. The interface can change in the future.\n",
      "  warnings.warn(\n",
      "[I 2023-12-22 19:34:21,118] A new study created in memory with name: no-name-55b26d9f-4dd6-41ac-a218-3b64f0bf981f\n"
     ]
    },
    {
     "data": {
      "application/vnd.jupyter.widget-view+json": {
       "model_id": "252136fb39364a9b8d87ed00c276b4ad",
       "version_major": 2,
       "version_minor": 0
      },
      "text/plain": [
       "  0%|          | 0/2 [00:00<?, ?it/s]"
      ]
     },
     "metadata": {},
     "output_type": "display_data"
    }
   ],
   "source": [
    "max_iter = 1000\n",
    "\n",
    "def objective(trial):\n",
    "    \n",
    "    param_distributions = {\n",
    "        \"Cs\": trial.suggest_int(\"C\", 1, 10),\n",
    "        \"l1_ratios\": [trial.suggest_float(\"l1_ratio\", 0, 1)],\n",
    "    }\n",
    "\n",
    "    lr_clf = LogisticRegressionCV(\n",
    "        cv=5,\n",
    "        max_iter=max_iter,\n",
    "        solver=\"saga\",\n",
    "        penalty=\"elasticnet\",\n",
    "        random_state=42,\n",
    "        **param_distributions\n",
    "    )\n",
    "    lr_clf.fit(X_train, y_train)\n",
    "    \n",
    "    a = 5\n",
    "\n",
    "\n",
    "\n",
    "study = optuna.create_study(\n",
    "    direction=\"maximize\",\n",
    "    sampler=optuna.samplers.TPESampler(\n",
    "        n_startup_trials=3, multivariate=True\n",
    "    )\n",
    ")\n",
    "study.optimize(\n",
    "    func=objective,  \n",
    "    n_trials=2, \n",
    "    show_progress_bar=True\n",
    ")\n",
    "    \n",
    "    \n",
    "\n",
    "    "
   ]
  },
  {
   "cell_type": "code",
   "execution_count": null,
   "id": "45b7a15d66dd572f",
   "metadata": {
    "collapsed": false
   },
   "outputs": [],
   "source": []
  },
  {
   "cell_type": "code",
   "execution_count": null,
   "id": "dae36177ee7249e2",
   "metadata": {
    "collapsed": false
   },
   "outputs": [],
   "source": []
  },
  {
   "cell_type": "code",
   "execution_count": null,
   "id": "aaee7d8eff5f7e7b",
   "metadata": {
    "ExecuteTime": {
     "start_time": "2023-12-22T17:41:48.403428Z"
    },
    "collapsed": false,
    "is_executing": true
   },
   "outputs": [
    {
     "name": "stderr",
     "output_type": "stream",
     "text": [
      "C:\\Users\\tddnth\\AppData\\Local\\Temp\\ipykernel_16524\\534153907.py:13: ExperimentalWarning: OptunaSearchCV is experimental (supported from v0.17.0). The interface can change in the future.\n",
      "  optuna_search = optuna.integration.OptunaSearchCV(lr_clf,\n",
      "[I 2023-12-22 18:41:48,442] A new study created in memory with name: no-name-799c3267-807e-4a70-80b6-6722de107cd4\n",
      "C:\\Users\\tddnth\\workspace\\nlp_exploration\\.venv\\Lib\\site-packages\\sklearn\\linear_model\\_sag.py:350: ConvergenceWarning: The max_iter was reached which means the coef_ did not converge\n",
      "  warnings.warn(\n",
      "C:\\Users\\tddnth\\workspace\\nlp_exploration\\.venv\\Lib\\site-packages\\sklearn\\linear_model\\_sag.py:350: ConvergenceWarning: The max_iter was reached which means the coef_ did not converge\n",
      "  warnings.warn(\n",
      "C:\\Users\\tddnth\\workspace\\nlp_exploration\\.venv\\Lib\\site-packages\\sklearn\\linear_model\\_sag.py:350: ConvergenceWarning: The max_iter was reached which means the coef_ did not converge\n",
      "  warnings.warn(\n",
      "C:\\Users\\tddnth\\workspace\\nlp_exploration\\.venv\\Lib\\site-packages\\sklearn\\linear_model\\_sag.py:350: ConvergenceWarning: The max_iter was reached which means the coef_ did not converge\n",
      "  warnings.warn(\n",
      "C:\\Users\\tddnth\\workspace\\nlp_exploration\\.venv\\Lib\\site-packages\\sklearn\\linear_model\\_sag.py:350: ConvergenceWarning: The max_iter was reached which means the coef_ did not converge\n",
      "  warnings.warn(\n",
      "C:\\Users\\tddnth\\workspace\\nlp_exploration\\.venv\\Lib\\site-packages\\sklearn\\linear_model\\_sag.py:350: ConvergenceWarning: The max_iter was reached which means the coef_ did not converge\n",
      "  warnings.warn(\n",
      "C:\\Users\\tddnth\\workspace\\nlp_exploration\\.venv\\Lib\\site-packages\\sklearn\\linear_model\\_sag.py:350: ConvergenceWarning: The max_iter was reached which means the coef_ did not converge\n",
      "  warnings.warn(\n",
      "C:\\Users\\tddnth\\workspace\\nlp_exploration\\.venv\\Lib\\site-packages\\sklearn\\linear_model\\_sag.py:350: ConvergenceWarning: The max_iter was reached which means the coef_ did not converge\n",
      "  warnings.warn(\n",
      "C:\\Users\\tddnth\\workspace\\nlp_exploration\\.venv\\Lib\\site-packages\\sklearn\\linear_model\\_sag.py:350: ConvergenceWarning: The max_iter was reached which means the coef_ did not converge\n",
      "  warnings.warn(\n",
      "C:\\Users\\tddnth\\workspace\\nlp_exploration\\.venv\\Lib\\site-packages\\sklearn\\linear_model\\_sag.py:350: ConvergenceWarning: The max_iter was reached which means the coef_ did not converge\n",
      "  warnings.warn(\n",
      "C:\\Users\\tddnth\\workspace\\nlp_exploration\\.venv\\Lib\\site-packages\\sklearn\\linear_model\\_sag.py:350: ConvergenceWarning: The max_iter was reached which means the coef_ did not converge\n",
      "  warnings.warn(\n",
      "C:\\Users\\tddnth\\workspace\\nlp_exploration\\.venv\\Lib\\site-packages\\sklearn\\linear_model\\_sag.py:350: ConvergenceWarning: The max_iter was reached which means the coef_ did not converge\n",
      "  warnings.warn(\n",
      "C:\\Users\\tddnth\\workspace\\nlp_exploration\\.venv\\Lib\\site-packages\\sklearn\\linear_model\\_sag.py:350: ConvergenceWarning: The max_iter was reached which means the coef_ did not converge\n",
      "  warnings.warn(\n",
      "C:\\Users\\tddnth\\workspace\\nlp_exploration\\.venv\\Lib\\site-packages\\sklearn\\linear_model\\_sag.py:350: ConvergenceWarning: The max_iter was reached which means the coef_ did not converge\n",
      "  warnings.warn(\n",
      "C:\\Users\\tddnth\\workspace\\nlp_exploration\\.venv\\Lib\\site-packages\\sklearn\\linear_model\\_sag.py:350: ConvergenceWarning: The max_iter was reached which means the coef_ did not converge\n",
      "  warnings.warn(\n",
      "C:\\Users\\tddnth\\workspace\\nlp_exploration\\.venv\\Lib\\site-packages\\sklearn\\linear_model\\_sag.py:350: ConvergenceWarning: The max_iter was reached which means the coef_ did not converge\n",
      "  warnings.warn(\n",
      "C:\\Users\\tddnth\\workspace\\nlp_exploration\\.venv\\Lib\\site-packages\\sklearn\\linear_model\\_sag.py:350: ConvergenceWarning: The max_iter was reached which means the coef_ did not converge\n",
      "  warnings.warn(\n",
      "C:\\Users\\tddnth\\workspace\\nlp_exploration\\.venv\\Lib\\site-packages\\sklearn\\linear_model\\_sag.py:350: ConvergenceWarning: The max_iter was reached which means the coef_ did not converge\n",
      "  warnings.warn(\n",
      "C:\\Users\\tddnth\\workspace\\nlp_exploration\\.venv\\Lib\\site-packages\\sklearn\\linear_model\\_sag.py:350: ConvergenceWarning: The max_iter was reached which means the coef_ did not converge\n",
      "  warnings.warn(\n",
      "C:\\Users\\tddnth\\workspace\\nlp_exploration\\.venv\\Lib\\site-packages\\sklearn\\linear_model\\_sag.py:350: ConvergenceWarning: The max_iter was reached which means the coef_ did not converge\n",
      "  warnings.warn(\n"
     ]
    }
   ],
   "source": [
    "max_iter = 100\n",
    "lr_clf = LogisticRegression(max_iter=max_iter, \n",
    "                            # n_jobs=-1, \n",
    "                            solver=\"saga\",\n",
    "                            penalty=\"elasticnet\", \n",
    "                            random_state=42)\n",
    "\n",
    "param_distributions = {\n",
    "    \"C\": optuna.distributions.FloatDistribution(1e-10, 10),\n",
    "    \"l1_ratio\": optuna.distributions.FloatDistribution(0, 1),\n",
    "}\n",
    "\n",
    "optuna_search = optuna.integration.OptunaSearchCV(lr_clf, \n",
    "                                                  cv=10,\n",
    "                                                  n_jobs=5,\n",
    "                                                  n_trials=5,\n",
    "                                                  param_distributions=param_distributions)\n",
    "optuna_search.fit(X_train, y_train)\n",
    "\n",
    "# lr_clf.fit(X_train, y_train)\n",
    "# lr_clf.score(X_test, y_test)"
   ]
  },
  {
   "cell_type": "markdown",
   "id": "f6d63f3f1fd15e05",
   "metadata": {
    "collapsed": false
   },
   "source": [
    "#### Boosting tree"
   ]
  },
  {
   "cell_type": "markdown",
   "id": "c517129ce58b62c7",
   "metadata": {
    "collapsed": false
   },
   "source": [
    "## En appliquant la méthode de fine-tuning sur le modèle. "
   ]
  }
 ],
 "metadata": {
  "kernelspec": {
   "display_name": "Python 3",
   "language": "python",
   "name": "python3"
  },
  "language_info": {
   "codemirror_mode": {
    "name": "ipython",
    "version": 3
   },
   "file_extension": ".py",
   "mimetype": "text/x-python",
   "name": "python",
   "nbconvert_exporter": "python",
   "pygments_lexer": "ipython3",
   "version": "3.11.4"
  }
 },
 "nbformat": 4,
 "nbformat_minor": 5
}
