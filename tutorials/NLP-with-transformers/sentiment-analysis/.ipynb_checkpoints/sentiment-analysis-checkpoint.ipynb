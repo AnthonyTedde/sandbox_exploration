{
 "cells": [
  {
   "cell_type": "code",
   "execution_count": 19,
   "id": "initial_id",
   "metadata": {
    "collapsed": true,
    "ExecuteTime": {
     "end_time": "2023-12-17T18:12:37.418971800Z",
     "start_time": "2023-12-17T18:12:37.401991Z"
    }
   },
   "outputs": [],
   "source": [
    "from pathlib import Path\n",
    "\n",
    "from datasets import load_dataset\n",
    "import matplotlib.pyplot as plt\n",
    "import pandas as pd\n",
    "\n",
    "# global variables\n",
    "data_dir = Path(\"~/workspace/nlp_exploration/data\")"
   ]
  },
  {
   "cell_type": "markdown",
   "source": [
    "# Chargement du jeu de donné"
   ],
   "metadata": {
    "collapsed": false
   },
   "id": "fec15a4739b367d"
  },
  {
   "cell_type": "markdown",
   "source": [
    "Le jeu de données \"emotions\" est composé de trois sous-ensembles distincts : \"train\" (entraînement), \"validation\" et \"test\". Ces sous-ensembles servent à des fins spécifiques dans le processus de développement et d'évaluation d'un modèle. \n",
    "\n",
    "1. **Ensemble d'entraînement (\"train\") :**\n",
    "   - Fonction : Utilisé pour entraîner le modèle d'apprentissage automatique.\n",
    "   - Objectif : Permettre au modèle d'ajuster ses paramètres en fonction des données fournies, afin d'apprendre les motifs et les caractéristiques associés aux différentes classes d'émotions.\n",
    "\n",
    "2. **Ensemble de validation (\"validation\") :**\n",
    "   - Fonction : Utilisé pour ajuster les hyperparamètres du modèle et éviter le surajustement.\n",
    "   - Objectif : Évaluer la performance du modèle sur des données distinctes de celles utilisées pour l'entraînement, permettant ainsi d'optimiser les paramètres du modèle tout en évitant une adaptation trop spécifique aux données d'entraînement.\n",
    "\n",
    "3. **Ensemble de test (\"test\") :**\n",
    "   - Fonction : Utilisé pour évaluer la performance finale du modèle.\n",
    "   - Objectif : Fournir une évaluation objective du modèle sur des données qu'il n'a jamais vues auparavant, simulant ainsi son comportement réel lorsqu'il est confronté à de nouvelles données.\n",
    "\n",
    "En utilisant ces trois sous-ensembles de manière distincte, on s'assure que le modèle est capable de généraliser ses connaissances à des données inconnues tout en étant suffisamment robuste pour faire face à des scénarios du monde réel."
   ],
   "metadata": {
    "collapsed": false
   },
   "id": "af51767b70db62a2"
  },
  {
   "cell_type": "code",
   "execution_count": 3,
   "outputs": [],
   "source": [
    "emotions = load_dataset(path=\"emotion\")"
   ],
   "metadata": {
    "collapsed": false,
    "ExecuteTime": {
     "end_time": "2023-12-17T17:55:32.176477300Z",
     "start_time": "2023-12-17T17:55:30.189894800Z"
    }
   },
   "id": "fa15fcfea29d7485"
  },
  {
   "cell_type": "code",
   "execution_count": 31,
   "outputs": [
    {
     "data": {
      "text/plain": "Map:   0%|          | 0/16000 [00:00<?, ? examples/s]",
      "application/vnd.jupyter.widget-view+json": {
       "version_major": 2,
       "version_minor": 0,
       "model_id": "071fe6764f9c4371b8adac253f09a4d4"
      }
     },
     "metadata": {},
     "output_type": "display_data"
    },
    {
     "data": {
      "text/plain": "Map:   0%|          | 0/2000 [00:00<?, ? examples/s]",
      "application/vnd.jupyter.widget-view+json": {
       "version_major": 2,
       "version_minor": 0,
       "model_id": "c9609eaec01f4db3aae3cf68e66ec380"
      }
     },
     "metadata": {},
     "output_type": "display_data"
    },
    {
     "data": {
      "text/plain": "Map:   0%|          | 0/2000 [00:00<?, ? examples/s]",
      "application/vnd.jupyter.widget-view+json": {
       "version_major": 2,
       "version_minor": 0,
       "model_id": "012c9d844c364099a8844c8b90275a77"
      }
     },
     "metadata": {},
     "output_type": "display_data"
    }
   ],
   "source": [
    "# Création d'une nouvelle colonne dans les jeux de données \"label_name\" afin de rendre plus explicite le nom de la cible\n",
    "emotions_names = emotions[\"train\"].features[\"label\"].names\n",
    "\n",
    "def label_int2str(batch):\n",
    "    return {\n",
    "        \"label_name\": [emotions_names[idx] for idx in batch[\"label\"]]\n",
    "    }\n",
    "\n",
    "emotions = emotions.map(label_int2str, batched=True)"
   ],
   "metadata": {
    "collapsed": false,
    "ExecuteTime": {
     "end_time": "2023-12-17T18:35:38.743605700Z",
     "start_time": "2023-12-17T18:35:38.585174700Z"
    }
   },
   "id": "9e9167ae5ca54d9d"
  },
  {
   "cell_type": "markdown",
   "source": [
    "La figure ci-dessous démontre que les proportions relatives des différentes classes d'émotions sont maintenues à travers les ensembles d'entraînement et de validation. Cela indique que la distribution des données lors de la constitution de ces ensembles a été réalisée par stratification."
   ],
   "metadata": {
    "collapsed": false
   },
   "id": "b174665198d3e0c9"
  },
  {
   "cell_type": "code",
   "execution_count": 30,
   "outputs": [
    {
     "data": {
      "text/plain": "<Figure size 640x480 with 1 Axes>",
      "image/png": "[encoded data removed]"
     },
     "metadata": {},
     "output_type": "display_data"
    }
   ],
   "source": [
    "emotions.set_format(type=\"pandas\")\n",
    "\n",
    "train = emotions[\"train\"][:]\n",
    "train[\"type\"] = \"train\"\n",
    "validation = emotions[\"validation\"][:]\n",
    "validation[\"type\"] = \"validation\"\n",
    "\n",
    "ds = pd.concat([train, validation])\n",
    "\n",
    "ds.groupby(\"type\").label_name.value_counts(normalize=True, ascending=True).unstack(0).plot.barh()\n",
    "plt.title(\"Frequency of classes\")\n",
    "plt.ylabel(\"Emotions\")\n",
    "plt.xlabel(\"Relative frequency\")\n",
    "plt.show()\n",
    "\n",
    "emotions.reset_format()"
   ],
   "metadata": {
    "collapsed": false,
    "ExecuteTime": {
     "end_time": "2023-12-17T18:24:47.571556300Z",
     "start_time": "2023-12-17T18:24:47.410607200Z"
    }
   },
   "id": "edb86005b55ae647"
  },
  {
   "cell_type": "markdown",
   "source": [
    "Nous constatons un déséquilibre au niveau des classes. Afin de traiter ce type de déséquilibre dans la variable cible, il est possible d'utiliser la bibliothèque [imbalanced-learn](https://imbalanced-learn.org/stable/)."
   ],
   "metadata": {
    "collapsed": false
   },
   "id": "ef0ae636a087cbb5"
  }
 ],
 "metadata": {
  "kernelspec": {
   "display_name": "Python 3",
   "language": "python",
   "name": "python3"
  },
  "language_info": {
   "codemirror_mode": {
    "name": "ipython",
    "version": 2
   },
   "file_extension": ".py",
   "mimetype": "text/x-python",
   "name": "python",
   "nbconvert_exporter": "python",
   "pygments_lexer": "ipython2",
   "version": "2.7.6"
  }
 },
 "nbformat": 4,
 "nbformat_minor": 5
}
