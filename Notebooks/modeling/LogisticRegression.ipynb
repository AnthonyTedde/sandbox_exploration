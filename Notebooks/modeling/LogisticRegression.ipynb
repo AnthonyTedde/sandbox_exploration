{
 "cells": [
  {
   "cell_type": "code",
   "execution_count": null,
   "id": "4a8aa80c9a013751",
   "metadata": {
    "collapsed": false,
    "is_executing": true
   },
   "outputs": [],
   "source": [
    "import optuna\n",
    "from optuna.samplers import TPESampler\n",
    "\n",
    "from sklearn.datasets import load_iris\n",
    "from sklearn.linear_model import LogisticRegression\n",
    "from sklearn.model_selection import (\n",
    "    StratifiedKFold,\n",
    "    train_test_split,\n",
    "    cross_val_score,\n",
    ")\n",
    "from sklearn.utils._testing import ignore_warnings\n",
    "from sklearn.exceptions import ConvergenceWarning\n",
    "\n",
    "import mlflow\n",
    "from sklearn.metrics import log_loss, make_scorer\n",
    "\n",
    "from datetime import datetime\n",
    "import time"
   ]
  },
  {
   "cell_type": "markdown",
   "id": "2870a5ad394ab644",
   "metadata": {
    "collapsed": false
   },
   "source": [
    "# Global variables\n",
    "\n",
    "All the global variables should be changed by assigning parameters to the notebook. If none, default value would be used instead."
   ]
  },
  {
   "cell_type": "code",
   "execution_count": 5,
   "id": "9a3bc35e8e0dd841",
   "metadata": {
    "collapsed": false
   },
   "outputs": [],
   "source": [
    "def get_study_name():\n",
    "    now = datetime.now()\n",
    "    return (\n",
    "        str(now.year) + \"-\" +\n",
    "        str(now.month).zfill(2) + \"-\" +\n",
    "        str(now.day).zfill(2) + \"_\" +\n",
    "        str(now.hour).zfill(2) + \":\" +\n",
    "        str(now.minute).zfill((2)) + \":\" +\n",
    "        str(now.second).zfill((2)) + \"_\" +\n",
    "        \"LogisticRegression\"\n",
    "    )\n",
    "    \n",
    "# Global\n",
    "seed = 1010\n",
    "\n",
    "# For the Kfold constrution\n",
    "n_splits = 5\n",
    "shuffle = True\n",
    "\n",
    "# For the study\n",
    "study_name = get_study_name()\n",
    "n_startup_trials = 3\n",
    "n_trials = 5\n",
    "n_jobs = 5\n",
    "callbacks = False\n",
    "\n",
    "# For the modelization\n",
    "max_iter = 100\n",
    "penalty = \"elasticnet\"\n",
    "\n",
    "\n",
    "# Obviously X and y should be passed as notebook argument.\n",
    "# TODO: if clause to collect X and y\n",
    "X, y = load_iris(return_X_y=True)\n",
    "X_train, X_test, y_train, y_test = train_test_split(\n",
    "    X, y,\n",
    "    test_size=.30,\n",
    "    stratify=y, \n",
    "    random_state=seed\n",
    ")"
   ]
  },
  {
   "cell_type": "markdown",
   "id": "7844eb6f14374c60",
   "metadata": {
    "collapsed": false
   },
   "source": [
    "# Setup the dataset"
   ]
  },
  {
   "cell_type": "markdown",
   "id": "dad0efddba07f27d",
   "metadata": {
    "collapsed": false
   },
   "source": [
    "## Create the index of stratification"
   ]
  },
  {
   "cell_type": "code",
   "execution_count": 8,
   "id": "4f6162e0dd16fd09",
   "metadata": {
    "ExecuteTime": {
     "end_time": "2023-12-24T11:19:09.035936800Z",
     "start_time": "2023-12-24T11:19:09.007889600Z"
    },
    "collapsed": false
   },
   "outputs": [],
   "source": [
    "skf = StratifiedKFold(n_splits=n_splits, random_state=seed, shuffle=shuffle)\n",
    "skf_generator = skf.split(X_train, y_train)"
   ]
  },
  {
   "cell_type": "markdown",
   "id": "9d581c3d218084fe",
   "metadata": {
    "collapsed": false
   },
   "source": [
    "# Model structure"
   ]
  },
  {
   "cell_type": "code",
   "execution_count": 9,
   "id": "7cf0a88d25fa6237",
   "metadata": {
    "ExecuteTime": {
     "end_time": "2023-12-24T11:19:11.351391200Z",
     "start_time": "2023-12-24T11:19:11.342752300Z"
    },
    "collapsed": false
   },
   "outputs": [],
   "source": [
    "# Hyperparameters scope\n",
    "def get_model_trial(trial=None):\n",
    "    HP_params = dict()\n",
    "    fixed_params = {\n",
    "        \"penalty\": penalty,\n",
    "        \"solver\": \"saga\" if penalty == \"elasticnet\" else \"lbfgs\",\n",
    "        \"max_iter\": max_iter,\n",
    "    }\n",
    "    if trial:\n",
    "        # Hyperparameters scope\n",
    "        HP_params = {\n",
    "            \"C\": trial.suggest_float(name=\"C\", low=1, high=10),\n",
    "            \"l1_ratio\": (\n",
    "                trial.suggest_float(name=\"l1_ratio\", low=0, high=1)\n",
    "                if penalty == \"elasticnet\"\n",
    "                else None\n",
    "            ),\n",
    "        }\n",
    "    return fixed_params | HP_params"
   ]
  },
  {
   "cell_type": "markdown",
   "id": "370f4a2f0fd34454",
   "metadata": {
    "collapsed": false
   },
   "source": [
    "# The study"
   ]
  },
  {
   "cell_type": "code",
   "execution_count": 10,
   "id": "dd07505eef89748d",
   "metadata": {
    "ExecuteTime": {
     "end_time": "2023-12-24T13:08:13.479795Z",
     "start_time": "2023-12-24T13:08:13.452196900Z"
    },
    "collapsed": false
   },
   "outputs": [],
   "source": [
    "optuna.logging.set_verbosity(optuna.logging.WARNING)"
   ]
  },
  {
   "cell_type": "code",
   "execution_count": 11,
   "id": "9e453c00dde929ff",
   "metadata": {
    "ExecuteTime": {
     "end_time": "2023-12-24T13:08:16.376759600Z",
     "start_time": "2023-12-24T13:08:16.214291700Z"
    },
    "collapsed": false
   },
   "outputs": [
    {
     "name": "stderr",
     "output_type": "stream",
     "text": [
      "c:\\Users\\tddnth\\workspace\\sandbox_exploration\\.venv\\Lib\\site-packages\\sklearn\\linear_model\\_sag.py:350: ConvergenceWarning: The max_iter was reached which means the coef_ did not converge\n",
      "  warnings.warn(\n"
     ]
    }
   ],
   "source": [
    "# TODO : Replace get_study_name() by study_name\n",
    "study_name = get_study_name()\n",
    "study = optuna.create_study(\n",
    "    study_name=study_name,\n",
    "    sampler=TPESampler(n_startup_trials=n_startup_trials),\n",
    "    direction=\"maximize\"\n",
    ")\n",
    "\n",
    "# Ignore warning for logistic regression.\n",
    "@ignore_warnings(category=ConvergenceWarning)\n",
    "def objective(trial):\n",
    "    params = get_model_trial(trial)\n",
    "    clf = LogisticRegression(**params)\n",
    "    scores = cross_val_score(estimator=clf,\n",
    "                             X=X_train, y=y_train,\n",
    "                             cv = skf,\n",
    "                             scoring=\"neg_log_loss\")\n",
    "    return scores.mean() - scores.std()\n",
    "\n",
    "study.optimize(func=objective,\n",
    "               n_trials=n_trials,\n",
    "               n_jobs=n_jobs)\n",
    "\n",
    "# experiment_id = mlflow.create_experiment(study_name)\n",
    "# with mlflow.start_run(experiment_id=experiment_id, nested=True ):\n",
    "    # mlflow.log_artifact() --> To store crossvalidation result\n",
    "    # pass"
   ]
  },
  {
   "cell_type": "code",
   "execution_count": null,
   "id": "ef51fd6e6cffbace",
   "metadata": {
    "collapsed": false
   },
   "outputs": [],
   "source": []
  }
 ],
 "metadata": {
  "kernelspec": {
   "display_name": "Python 3",
   "language": "python",
   "name": "python3"
  },
  "language_info": {
   "codemirror_mode": {
    "name": "ipython",
    "version": 3
   },
   "file_extension": ".py",
   "mimetype": "text/x-python",
   "name": "python",
   "nbconvert_exporter": "python",
   "pygments_lexer": "ipython3",
   "version": "3.11.4"
  }
 },
 "nbformat": 4,
 "nbformat_minor": 5
}
