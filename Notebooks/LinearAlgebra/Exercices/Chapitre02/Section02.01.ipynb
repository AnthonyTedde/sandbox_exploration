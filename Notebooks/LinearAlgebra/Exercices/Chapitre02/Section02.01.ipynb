{
 "cells": [
  {
   "cell_type": "code",
   "execution_count": 73,
   "metadata": {},
   "outputs": [],
   "source": [
    "import numpy as np\n",
    "import pandas as pd\n",
    "import seaborn as sns\n",
    "import matplotlib.pyplot as plt"
   ]
  },
  {
   "cell_type": "markdown",
   "metadata": {},
   "source": [
    "# Review the row and column pictures"
   ]
  },
  {
   "cell_type": "markdown",
   "metadata": {},
   "source": [
    "## Question 29 : \"Markov matrix\""
   ]
  },
  {
   "cell_type": "code",
   "execution_count": 11,
   "metadata": {},
   "outputs": [
    {
     "name": "stdout",
     "output_type": "stream",
     "text": [
      "A : \n",
      "[[0.8 0.3]\n",
      " [0.2 0.7]]\n",
      "u0 = [1 0]\n",
      "u1 = [0.8 0.2]\n",
      "u2 = [0.7 0.3]\n",
      "u3 = [0.65 0.35]\n",
      "1\n",
      "1.0\n",
      "1.0\n",
      "1.0\n"
     ]
    }
   ],
   "source": [
    "u0 = np.array([1, 0])\n",
    "A = np.array([[.8, .3], [.2, .7]])\n",
    "u1 = np.dot(A, u0)\n",
    "u2 = np.dot(A, u1)\n",
    "u3 = np.dot(A, u2)\n",
    "print(f\"u0 = {u0}\")\n",
    "print(f\"u1 = {u1}\")\n",
    "print(f\"u2 = {u2}\")\n",
    "print(f\"u3 = {u3}\")\n",
    "\n",
    "# Components add to one:\n",
    "print(np.sum(u0))\n",
    "print(np.sum(u1))\n",
    "print(np.sum(u2))\n",
    "print(np.sum(u2))"
   ]
  },
  {
   "cell_type": "markdown",
   "metadata": {},
   "source": [
    "# Challenge Problems"
   ]
  },
  {
   "cell_type": "markdown",
   "metadata": {},
   "source": [
    "## Question 30"
   ]
  },
  {
   "cell_type": "code",
   "execution_count": 75,
   "metadata": {},
   "outputs": [
    {
     "name": "stdout",
     "output_type": "stream",
     "text": [
      "      x    y  Initial\n",
      "66  0.6  0.4        0\n",
      "67  0.6  0.4        0\n",
      "68  0.6  0.4        0\n",
      "69  0.6  0.4        0\n",
      "70  0.6  0.4        0\n",
      "      x    y  Initial\n",
      "66  0.6  0.4        1\n",
      "67  0.6  0.4        1\n",
      "68  0.6  0.4        1\n",
      "69  0.6  0.4        1\n",
      "70  0.6  0.4        1\n"
     ]
    },
    {
     "data": {
      "image/png": "[encoded data removed]",
      "text/plain": [
       "<Figure size 640x480 with 1 Axes>"
      ]
     },
     "metadata": {},
     "output_type": "display_data"
    }
   ],
   "source": [
    "u = list()\n",
    "v = list()\n",
    "A = np.array([[.8, .3], [.2, .7]])\n",
    "u.append(np.array([1, 0]))\n",
    "v.append(np.array([0, 1]))\n",
    "for i in range(70):\n",
    "    u.append(np.dot(A, u[-1]))\n",
    "    v.append(np.dot(A, v[-1]))\n",
    "\n",
    "U=pd.DataFrame(u, columns=[\"x\", \"y\"])\n",
    "U.insert(loc=U.shape[1], column=\"Initial\", value=0)\n",
    "# U = U.reset_index()\n",
    "V=pd.DataFrame(v, columns=[\"x\", \"y\"])\n",
    "V.insert(loc=V.shape[1], column=\"Initial\", value=1)\n",
    "# V = V.reset_index(col_level=str)\n",
    "UV = pd.concat([U, V])\n",
    "\n",
    "# UV = UV.melt(id_vars=[\"Initial\"])\n",
    "\n",
    "print(U.tail())\n",
    "print(V.tail())\n",
    "\n",
    "# ax = UV.plot.scatter(x=\"x\", y=\"y\", c=\"Initial\", colormap=\"viridis\")\n",
    "ax = sns.scatterplot(data=UV, x=\"x\", y=\"y\", hue=\"Initial\")\n",
    "ax.set_xlabel(\"Abs.\")\n",
    "ax.set_ylabel(\"Ord.\")\n",
    "plt.show()"
   ]
  }
 ],
 "metadata": {
  "kernelspec": {
   "display_name": ".venv",
   "language": "python",
   "name": "python3"
  },
  "language_info": {
   "codemirror_mode": {
    "name": "ipython",
    "version": 3
   },
   "file_extension": ".py",
   "mimetype": "text/x-python",
   "name": "python",
   "nbconvert_exporter": "python",
   "pygments_lexer": "ipython3",
   "version": "3.11.4"
  }
 },
 "nbformat": 4,
 "nbformat_minor": 2
}
