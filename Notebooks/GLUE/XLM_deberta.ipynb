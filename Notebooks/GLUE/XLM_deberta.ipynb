{
 "cells": [
  {
   "cell_type": "code",
   "execution_count": 4,
   "outputs": [],
   "source": [
    "import importlib\n",
    "import settings\n",
    "importlib.reload(settings)\n",
    "from settings import MODEL_CHECKPOINT, TASK, DEBUG, BENCHMARK, TRAIN_NAME, VALIDATION_NAME, TEST_NAME, DIRECTORIES\n",
    "\n",
    "from datasets import load_dataset, ReadInstruction, DatasetDict, DownloadConfig\n",
    "from evaluate import load \n"
   ],
   "metadata": {
    "collapsed": false,
    "ExecuteTime": {
     "end_time": "2023-12-14T15:29:17.882745500Z",
     "start_time": "2023-12-14T15:29:17.873567500Z"
    }
   },
   "id": "cbcb201f4904e9ec"
  },
  {
   "cell_type": "code",
   "execution_count": 6,
   "outputs": [
    {
     "data": {
      "text/plain": "True"
     },
     "execution_count": 6,
     "metadata": {},
     "output_type": "execute_result"
    }
   ],
   "source": [
    "DEBUG"
   ],
   "metadata": {
    "collapsed": false,
    "ExecuteTime": {
     "end_time": "2023-12-14T15:30:26.346621300Z",
     "start_time": "2023-12-14T15:30:26.305220300Z"
    }
   },
   "id": "217a8d9f08dac5b1"
  },
  {
   "cell_type": "markdown",
   "source": [
    "# Introduction"
   ],
   "metadata": {
    "collapsed": false
   },
   "id": "1ce93de65b62cecb"
  },
  {
   "cell_type": "markdown",
   "source": [
    "# Glue: Question Natural Language Inference (QNLI)"
   ],
   "metadata": {
    "collapsed": false
   },
   "id": "410ec2b9a5f85fa6"
  },
  {
   "cell_type": "markdown",
   "source": [
    "## Importation des données"
   ],
   "metadata": {
    "collapsed": false
   },
   "id": "9bb591321a54f52"
  },
  {
   "cell_type": "code",
   "execution_count": 7,
   "outputs": [],
   "source": [
    "def get_sub_dataset(dataset_name, to=20):\n",
    "    ds = load_dataset(path=BENCHMARK,\n",
    "                      name=TASK,\n",
    "                      split=ReadInstruction(dataset_name, to=to),\n",
    "                      )\n",
    "    return ds\n",
    "    \n",
    "if DEBUG:\n",
    "    qnli_ds = DatasetDict(\n",
    "        {TRAIN_NAME: get_sub_dataset(TRAIN_NAME), \n",
    "         VALIDATION_NAME: get_sub_dataset(VALIDATION_NAME), \n",
    "         TEST_NAME: get_sub_dataset(TEST_NAME)}\n",
    "    )\n",
    "else:\n",
    "    qnli_ds = load_dataset(path=BENCHMARK, name=TASK)"
   ],
   "metadata": {
    "collapsed": false,
    "ExecuteTime": {
     "end_time": "2023-12-14T15:31:20.916145700Z",
     "start_time": "2023-12-14T15:31:16.105832500Z"
    }
   },
   "id": "94ce89124f9ed0b8"
  },
  {
   "cell_type": "code",
   "execution_count": 8,
   "outputs": [
    {
     "data": {
      "text/plain": "{'train': [{'filename': 'C:\\\\Users\\\\tddnth\\\\.cache\\\\huggingface\\\\datasets\\\\glue\\\\qnli\\\\1.0.0\\\\dacbe3125aa31d7f70367a07a8a9e72a5a0bfeb5fc42e75c9db75b96da6053ad\\\\glue-train.arrow'}],\n 'validation': [{'filename': 'C:\\\\Users\\\\tddnth\\\\.cache\\\\huggingface\\\\datasets\\\\glue\\\\qnli\\\\1.0.0\\\\dacbe3125aa31d7f70367a07a8a9e72a5a0bfeb5fc42e75c9db75b96da6053ad\\\\glue-validation.arrow'}],\n 'test': [{'filename': 'C:\\\\Users\\\\tddnth\\\\.cache\\\\huggingface\\\\datasets\\\\glue\\\\qnli\\\\1.0.0\\\\dacbe3125aa31d7f70367a07a8a9e72a5a0bfeb5fc42e75c9db75b96da6053ad\\\\glue-test.arrow'}]}"
     },
     "execution_count": 8,
     "metadata": {},
     "output_type": "execute_result"
    }
   ],
   "source": [
    "qnli_ds.cache_files"
   ],
   "metadata": {
    "collapsed": false,
    "ExecuteTime": {
     "end_time": "2023-12-14T15:31:24.468284400Z",
     "start_time": "2023-12-14T15:31:24.456934700Z"
    }
   },
   "id": "5428a56b00a8646e"
  },
  {
   "cell_type": "markdown",
   "source": [
    "## Exploration des données"
   ],
   "metadata": {
    "collapsed": false
   },
   "id": "e0bbbe75bb0c0f81"
  },
  {
   "cell_type": "markdown",
   "source": [
    "# Modélisation"
   ],
   "metadata": {
    "collapsed": false
   },
   "id": "ad933ec810611fe0"
  },
  {
   "cell_type": "markdown",
   "source": [
    "## Préparation"
   ],
   "metadata": {
    "collapsed": false
   },
   "id": "fa5bf522e0453e23"
  },
  {
   "cell_type": "markdown",
   "source": [
    "## Entrainement"
   ],
   "metadata": {
    "collapsed": false
   },
   "id": "4040e9f79b5687dd"
  },
  {
   "cell_type": "markdown",
   "source": [
    "## Performance"
   ],
   "metadata": {
    "collapsed": false
   },
   "id": "29b21e9d4333db03"
  },
  {
   "cell_type": "markdown",
   "source": [
    "# Conclusion"
   ],
   "metadata": {
    "collapsed": false
   },
   "id": "4421a666f0240113"
  }
 ],
 "metadata": {
  "kernelspec": {
   "display_name": "Python 3",
   "language": "python",
   "name": "python3"
  },
  "language_info": {
   "codemirror_mode": {
    "name": "ipython",
    "version": 2
   },
   "file_extension": ".py",
   "mimetype": "text/x-python",
   "name": "python",
   "nbconvert_exporter": "python",
   "pygments_lexer": "ipython2",
   "version": "2.7.6"
  }
 },
 "nbformat": 4,
 "nbformat_minor": 5
}
